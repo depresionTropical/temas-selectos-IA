{
 "cells": [
  {
   "cell_type": "markdown",
   "metadata": {},
   "source": [
    "# TF-IDF"
   ]
  },
  {
   "cell_type": "code",
   "execution_count": 1,
   "metadata": {},
   "outputs": [],
   "source": [
    "import pandas as pd"
   ]
  },
  {
   "cell_type": "code",
   "execution_count": 2,
   "metadata": {},
   "outputs": [],
   "source": [
    "df_movies = pd.read_csv('./data/movie_metadata.csv')\n",
    "df_movies['texto'] = df_movies[['genres','plot_keywords']].apply(lambda row: ''.join(row.values.astype(str)),axis=1)\n",
    "df_movies['texto']=df_movies['texto'].str.replace('|',' ')"
   ]
  },
  {
   "cell_type": "code",
   "execution_count": 3,
   "metadata": {},
   "outputs": [],
   "source": [
    "from sklearn.feature_extraction.text import TfidfVectorizer\n",
    "from sklearn.metrics.pairwise import cosine_similarity\n",
    "\n",
    "tfidf = TfidfVectorizer(max_features=10000, stop_words='english')\n",
    "tfidf_matrix = tfidf.fit_transform(df_movies['texto'])"
   ]
  },
  {
   "cell_type": "code",
   "execution_count": 4,
   "metadata": {},
   "outputs": [
    {
     "name": "stdout",
     "output_type": "stream",
     "text": [
      "Indice 12\n",
      "Movies [717, 2774, 1634, 3281, 4537, 252, 1577, 286, 2944, 4382]\n",
      "717                GoldenEye \n",
      "2774    The Spy Who Loved Me \n",
      "1634        A View to a Kill \n",
      "3281             Thunderball \n",
      "4537                  Dr. No \n",
      "252      Tomorrow Never Dies \n",
      "1577               Moonraker \n",
      "286            Casino Royale \n",
      "2944           Casino Royale \n",
      "4382    I Spit on Your Grave \n",
      "Name: movie_title, dtype: object\n"
     ]
    }
   ],
   "source": [
    "tittle = pd.Series(df_movies.index, index=df_movies['movie_title'])\n",
    "tittle.index = tittle.index.str.strip()\n",
    "index = tittle['Quantum of Solace'] \n",
    "print('Indice',index)\n",
    "consulta = tfidf_matrix[index]\n",
    "similitud = cosine_similarity(consulta, tfidf_matrix)\n",
    "\n",
    "similitud = list(enumerate(similitud[0]))\n",
    "similitud = sorted(similitud, key=lambda x: x[1], reverse=True)\n",
    "similitud = similitud[1:11]\n",
    "\n",
    "#name movie\n",
    "movies = [i[0] for i in similitud]\n",
    "print('Movies',movies)\n",
    "print(df_movies['movie_title'].iloc[movies])"
   ]
  }
 ],
 "metadata": {
  "kernelspec": {
   "display_name": ".env",
   "language": "python",
   "name": "python3"
  },
  "language_info": {
   "codemirror_mode": {
    "name": "ipython",
    "version": 3
   },
   "file_extension": ".py",
   "mimetype": "text/x-python",
   "name": "python",
   "nbconvert_exporter": "python",
   "pygments_lexer": "ipython3",
   "version": "3.10.12"
  }
 },
 "nbformat": 4,
 "nbformat_minor": 2
}
