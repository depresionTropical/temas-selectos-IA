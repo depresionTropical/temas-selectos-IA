{
 "cells": [
  {
   "cell_type": "markdown",
   "metadata": {},
   "source": [
    "Ejemplo clase 29 de agosto 2024"
   ]
  },
  {
   "cell_type": "code",
   "execution_count": 1,
   "metadata": {},
   "outputs": [],
   "source": [
    "# importar librerias y cargar dataset\n",
    "import pandas as pd\n",
    "df = pd.read_csv('./data/df_total.csv',encoding='utf-8')  "
   ]
  },
  {
   "cell_type": "code",
   "execution_count": 2,
   "metadata": {},
   "outputs": [],
   "source": [
    "input_news = df['news']\n",
    "output_news = df['Type']"
   ]
  },
  {
   "cell_type": "code",
   "execution_count": 3,
   "metadata": {},
   "outputs": [
    {
     "data": {
      "text/plain": [
       "Type\n",
       "Macroeconomia     340\n",
       "Alianzas          247\n",
       "Innovacion        195\n",
       "Regulaciones      142\n",
       "Sostenibilidad    137\n",
       "Otra              130\n",
       "Reputacion         26\n",
       "Name: count, dtype: int64"
      ]
     },
     "execution_count": 3,
     "metadata": {},
     "output_type": "execute_result"
    }
   ],
   "source": [
    "output_news.value_counts()"
   ]
  },
  {
   "cell_type": "code",
   "execution_count": 4,
   "metadata": {},
   "outputs": [],
   "source": [
    "from sklearn.model_selection import train_test_split\n",
    "X_train, X_test, y_train, y_test = train_test_split(input_news, output_news, test_size=0.2, random_state=42,stratify=output_news)"
   ]
  },
  {
   "cell_type": "code",
   "execution_count": 5,
   "metadata": {},
   "outputs": [],
   "source": [
    "from sklearn.feature_extraction.text import CountVectorizer\n",
    "vectorizer = CountVectorizer()"
   ]
  },
  {
   "cell_type": "code",
   "execution_count": 6,
   "metadata": {},
   "outputs": [
    {
     "name": "stdout",
     "output_type": "stream",
     "text": [
      "<Compressed Sparse Row sparse matrix of dtype 'int64'\n",
      "\twith 230776 stored elements and shape (973, 26272)>\n",
      "  Coords\tValues\n",
      "  (0, 9984)\t19\n",
      "  (0, 7483)\t2\n",
      "  (0, 8279)\t8\n",
      "  (0, 17652)\t2\n",
      "  (0, 8049)\t41\n",
      "  (0, 25665)\t2\n",
      "  (0, 17363)\t7\n",
      "  (0, 4807)\t1\n",
      "  (0, 13174)\t1\n",
      "  (0, 3786)\t1\n",
      "  (0, 425)\t2\n",
      "  (0, 10272)\t16\n",
      "  (0, 13014)\t3\n",
      "  (0, 4672)\t2\n",
      "  (0, 26096)\t1\n",
      "  (0, 20706)\t15\n",
      "  (0, 18804)\t1\n",
      "  (0, 10439)\t1\n",
      "  (0, 15405)\t19\n",
      "  (0, 16463)\t2\n",
      "  (0, 21325)\t1\n",
      "  (0, 15982)\t19\n",
      "  (0, 19986)\t3\n",
      "  (0, 11801)\t2\n",
      "  (0, 25007)\t10\n",
      "  :\t:\n",
      "  (972, 6620)\t1\n",
      "  (972, 8379)\t1\n",
      "  (972, 1608)\t2\n",
      "  (972, 5233)\t2\n",
      "  (972, 113)\t1\n",
      "  (972, 22099)\t1\n",
      "  (972, 15738)\t1\n",
      "  (972, 25872)\t1\n",
      "  (972, 1861)\t1\n",
      "  (972, 7841)\t1\n",
      "  (972, 18246)\t6\n",
      "  (972, 20249)\t1\n",
      "  (972, 5779)\t1\n",
      "  (972, 23839)\t1\n",
      "  (972, 5709)\t1\n",
      "  (972, 4947)\t1\n",
      "  (972, 10991)\t1\n",
      "  (972, 1609)\t2\n",
      "  (972, 2795)\t1\n",
      "  (972, 6601)\t1\n",
      "  (972, 3021)\t1\n",
      "  (972, 6589)\t1\n",
      "  (972, 25709)\t1\n",
      "  (972, 7457)\t1\n",
      "  (972, 21556)\t1\n"
     ]
    }
   ],
   "source": [
    "X_train_vectorizer = vectorizer.fit_transform(X_train)\n",
    "print(X_train_vectorizer)"
   ]
  },
  {
   "cell_type": "code",
   "execution_count": 7,
   "metadata": {},
   "outputs": [
    {
     "name": "stdout",
     "output_type": "stream",
     "text": [
      "<Compressed Sparse Row sparse matrix of dtype 'int64'\n",
      "\twith 56765 stored elements and shape (244, 26272)>\n",
      "  Coords\tValues\n",
      "  (0, 1503)\t1\n",
      "  (0, 1551)\t2\n",
      "  (0, 1649)\t1\n",
      "  (0, 1686)\t1\n",
      "  (0, 1777)\t1\n",
      "  (0, 1779)\t1\n",
      "  (0, 1787)\t1\n",
      "  (0, 1790)\t1\n",
      "  (0, 1869)\t1\n",
      "  (0, 1875)\t1\n",
      "  (0, 1877)\t1\n",
      "  (0, 1897)\t1\n",
      "  (0, 1903)\t2\n",
      "  (0, 1997)\t1\n",
      "  (0, 2116)\t3\n",
      "  (0, 2209)\t1\n",
      "  (0, 2281)\t1\n",
      "  (0, 2300)\t2\n",
      "  (0, 2351)\t3\n",
      "  (0, 2450)\t1\n",
      "  (0, 2461)\t2\n",
      "  (0, 2477)\t1\n",
      "  (0, 2566)\t1\n",
      "  (0, 2681)\t1\n",
      "  (0, 2745)\t1\n",
      "  :\t:\n",
      "  (243, 23138)\t1\n",
      "  (243, 23150)\t1\n",
      "  (243, 23164)\t1\n",
      "  (243, 23373)\t1\n",
      "  (243, 23382)\t2\n",
      "  (243, 23383)\t1\n",
      "  (243, 23405)\t3\n",
      "  (243, 23426)\t1\n",
      "  (243, 23563)\t1\n",
      "  (243, 23770)\t1\n",
      "  (243, 24105)\t1\n",
      "  (243, 24119)\t1\n",
      "  (243, 24140)\t1\n",
      "  (243, 24535)\t3\n",
      "  (243, 24625)\t2\n",
      "  (243, 24761)\t2\n",
      "  (243, 24894)\t1\n",
      "  (243, 25006)\t4\n",
      "  (243, 25007)\t3\n",
      "  (243, 25010)\t1\n",
      "  (243, 25776)\t1\n",
      "  (243, 26096)\t1\n",
      "  (243, 26157)\t1\n",
      "  (243, 26232)\t1\n",
      "  (243, 26267)\t1\n"
     ]
    }
   ],
   "source": [
    "X_test_vectorizer = vectorizer.transform(X_test)\n",
    "print(X_test_vectorizer)"
   ]
  },
  {
   "cell_type": "code",
   "execution_count": 8,
   "metadata": {},
   "outputs": [
    {
     "data": {
      "text/plain": [
       "<Compressed Sparse Row sparse matrix of dtype 'int64'\n",
       "\twith 230776 stored elements and shape (973, 26272)>"
      ]
     },
     "execution_count": 8,
     "metadata": {},
     "output_type": "execute_result"
    }
   ],
   "source": [
    "X_train_vectorizer"
   ]
  },
  {
   "cell_type": "code",
   "execution_count": 9,
   "metadata": {},
   "outputs": [
    {
     "data": {
      "text/html": [
       "<style>#sk-container-id-1 {\n",
       "  /* Definition of color scheme common for light and dark mode */\n",
       "  --sklearn-color-text: black;\n",
       "  --sklearn-color-line: gray;\n",
       "  /* Definition of color scheme for unfitted estimators */\n",
       "  --sklearn-color-unfitted-level-0: #fff5e6;\n",
       "  --sklearn-color-unfitted-level-1: #f6e4d2;\n",
       "  --sklearn-color-unfitted-level-2: #ffe0b3;\n",
       "  --sklearn-color-unfitted-level-3: chocolate;\n",
       "  /* Definition of color scheme for fitted estimators */\n",
       "  --sklearn-color-fitted-level-0: #f0f8ff;\n",
       "  --sklearn-color-fitted-level-1: #d4ebff;\n",
       "  --sklearn-color-fitted-level-2: #b3dbfd;\n",
       "  --sklearn-color-fitted-level-3: cornflowerblue;\n",
       "\n",
       "  /* Specific color for light theme */\n",
       "  --sklearn-color-text-on-default-background: var(--sg-text-color, var(--theme-code-foreground, var(--jp-content-font-color1, black)));\n",
       "  --sklearn-color-background: var(--sg-background-color, var(--theme-background, var(--jp-layout-color0, white)));\n",
       "  --sklearn-color-border-box: var(--sg-text-color, var(--theme-code-foreground, var(--jp-content-font-color1, black)));\n",
       "  --sklearn-color-icon: #696969;\n",
       "\n",
       "  @media (prefers-color-scheme: dark) {\n",
       "    /* Redefinition of color scheme for dark theme */\n",
       "    --sklearn-color-text-on-default-background: var(--sg-text-color, var(--theme-code-foreground, var(--jp-content-font-color1, white)));\n",
       "    --sklearn-color-background: var(--sg-background-color, var(--theme-background, var(--jp-layout-color0, #111)));\n",
       "    --sklearn-color-border-box: var(--sg-text-color, var(--theme-code-foreground, var(--jp-content-font-color1, white)));\n",
       "    --sklearn-color-icon: #878787;\n",
       "  }\n",
       "}\n",
       "\n",
       "#sk-container-id-1 {\n",
       "  color: var(--sklearn-color-text);\n",
       "}\n",
       "\n",
       "#sk-container-id-1 pre {\n",
       "  padding: 0;\n",
       "}\n",
       "\n",
       "#sk-container-id-1 input.sk-hidden--visually {\n",
       "  border: 0;\n",
       "  clip: rect(1px 1px 1px 1px);\n",
       "  clip: rect(1px, 1px, 1px, 1px);\n",
       "  height: 1px;\n",
       "  margin: -1px;\n",
       "  overflow: hidden;\n",
       "  padding: 0;\n",
       "  position: absolute;\n",
       "  width: 1px;\n",
       "}\n",
       "\n",
       "#sk-container-id-1 div.sk-dashed-wrapped {\n",
       "  border: 1px dashed var(--sklearn-color-line);\n",
       "  margin: 0 0.4em 0.5em 0.4em;\n",
       "  box-sizing: border-box;\n",
       "  padding-bottom: 0.4em;\n",
       "  background-color: var(--sklearn-color-background);\n",
       "}\n",
       "\n",
       "#sk-container-id-1 div.sk-container {\n",
       "  /* jupyter's `normalize.less` sets `[hidden] { display: none; }`\n",
       "     but bootstrap.min.css set `[hidden] { display: none !important; }`\n",
       "     so we also need the `!important` here to be able to override the\n",
       "     default hidden behavior on the sphinx rendered scikit-learn.org.\n",
       "     See: https://github.com/scikit-learn/scikit-learn/issues/21755 */\n",
       "  display: inline-block !important;\n",
       "  position: relative;\n",
       "}\n",
       "\n",
       "#sk-container-id-1 div.sk-text-repr-fallback {\n",
       "  display: none;\n",
       "}\n",
       "\n",
       "div.sk-parallel-item,\n",
       "div.sk-serial,\n",
       "div.sk-item {\n",
       "  /* draw centered vertical line to link estimators */\n",
       "  background-image: linear-gradient(var(--sklearn-color-text-on-default-background), var(--sklearn-color-text-on-default-background));\n",
       "  background-size: 2px 100%;\n",
       "  background-repeat: no-repeat;\n",
       "  background-position: center center;\n",
       "}\n",
       "\n",
       "/* Parallel-specific style estimator block */\n",
       "\n",
       "#sk-container-id-1 div.sk-parallel-item::after {\n",
       "  content: \"\";\n",
       "  width: 100%;\n",
       "  border-bottom: 2px solid var(--sklearn-color-text-on-default-background);\n",
       "  flex-grow: 1;\n",
       "}\n",
       "\n",
       "#sk-container-id-1 div.sk-parallel {\n",
       "  display: flex;\n",
       "  align-items: stretch;\n",
       "  justify-content: center;\n",
       "  background-color: var(--sklearn-color-background);\n",
       "  position: relative;\n",
       "}\n",
       "\n",
       "#sk-container-id-1 div.sk-parallel-item {\n",
       "  display: flex;\n",
       "  flex-direction: column;\n",
       "}\n",
       "\n",
       "#sk-container-id-1 div.sk-parallel-item:first-child::after {\n",
       "  align-self: flex-end;\n",
       "  width: 50%;\n",
       "}\n",
       "\n",
       "#sk-container-id-1 div.sk-parallel-item:last-child::after {\n",
       "  align-self: flex-start;\n",
       "  width: 50%;\n",
       "}\n",
       "\n",
       "#sk-container-id-1 div.sk-parallel-item:only-child::after {\n",
       "  width: 0;\n",
       "}\n",
       "\n",
       "/* Serial-specific style estimator block */\n",
       "\n",
       "#sk-container-id-1 div.sk-serial {\n",
       "  display: flex;\n",
       "  flex-direction: column;\n",
       "  align-items: center;\n",
       "  background-color: var(--sklearn-color-background);\n",
       "  padding-right: 1em;\n",
       "  padding-left: 1em;\n",
       "}\n",
       "\n",
       "\n",
       "/* Toggleable style: style used for estimator/Pipeline/ColumnTransformer box that is\n",
       "clickable and can be expanded/collapsed.\n",
       "- Pipeline and ColumnTransformer use this feature and define the default style\n",
       "- Estimators will overwrite some part of the style using the `sk-estimator` class\n",
       "*/\n",
       "\n",
       "/* Pipeline and ColumnTransformer style (default) */\n",
       "\n",
       "#sk-container-id-1 div.sk-toggleable {\n",
       "  /* Default theme specific background. It is overwritten whether we have a\n",
       "  specific estimator or a Pipeline/ColumnTransformer */\n",
       "  background-color: var(--sklearn-color-background);\n",
       "}\n",
       "\n",
       "/* Toggleable label */\n",
       "#sk-container-id-1 label.sk-toggleable__label {\n",
       "  cursor: pointer;\n",
       "  display: block;\n",
       "  width: 100%;\n",
       "  margin-bottom: 0;\n",
       "  padding: 0.5em;\n",
       "  box-sizing: border-box;\n",
       "  text-align: center;\n",
       "}\n",
       "\n",
       "#sk-container-id-1 label.sk-toggleable__label-arrow:before {\n",
       "  /* Arrow on the left of the label */\n",
       "  content: \"▸\";\n",
       "  float: left;\n",
       "  margin-right: 0.25em;\n",
       "  color: var(--sklearn-color-icon);\n",
       "}\n",
       "\n",
       "#sk-container-id-1 label.sk-toggleable__label-arrow:hover:before {\n",
       "  color: var(--sklearn-color-text);\n",
       "}\n",
       "\n",
       "/* Toggleable content - dropdown */\n",
       "\n",
       "#sk-container-id-1 div.sk-toggleable__content {\n",
       "  max-height: 0;\n",
       "  max-width: 0;\n",
       "  overflow: hidden;\n",
       "  text-align: left;\n",
       "  /* unfitted */\n",
       "  background-color: var(--sklearn-color-unfitted-level-0);\n",
       "}\n",
       "\n",
       "#sk-container-id-1 div.sk-toggleable__content.fitted {\n",
       "  /* fitted */\n",
       "  background-color: var(--sklearn-color-fitted-level-0);\n",
       "}\n",
       "\n",
       "#sk-container-id-1 div.sk-toggleable__content pre {\n",
       "  margin: 0.2em;\n",
       "  border-radius: 0.25em;\n",
       "  color: var(--sklearn-color-text);\n",
       "  /* unfitted */\n",
       "  background-color: var(--sklearn-color-unfitted-level-0);\n",
       "}\n",
       "\n",
       "#sk-container-id-1 div.sk-toggleable__content.fitted pre {\n",
       "  /* unfitted */\n",
       "  background-color: var(--sklearn-color-fitted-level-0);\n",
       "}\n",
       "\n",
       "#sk-container-id-1 input.sk-toggleable__control:checked~div.sk-toggleable__content {\n",
       "  /* Expand drop-down */\n",
       "  max-height: 200px;\n",
       "  max-width: 100%;\n",
       "  overflow: auto;\n",
       "}\n",
       "\n",
       "#sk-container-id-1 input.sk-toggleable__control:checked~label.sk-toggleable__label-arrow:before {\n",
       "  content: \"▾\";\n",
       "}\n",
       "\n",
       "/* Pipeline/ColumnTransformer-specific style */\n",
       "\n",
       "#sk-container-id-1 div.sk-label input.sk-toggleable__control:checked~label.sk-toggleable__label {\n",
       "  color: var(--sklearn-color-text);\n",
       "  background-color: var(--sklearn-color-unfitted-level-2);\n",
       "}\n",
       "\n",
       "#sk-container-id-1 div.sk-label.fitted input.sk-toggleable__control:checked~label.sk-toggleable__label {\n",
       "  background-color: var(--sklearn-color-fitted-level-2);\n",
       "}\n",
       "\n",
       "/* Estimator-specific style */\n",
       "\n",
       "/* Colorize estimator box */\n",
       "#sk-container-id-1 div.sk-estimator input.sk-toggleable__control:checked~label.sk-toggleable__label {\n",
       "  /* unfitted */\n",
       "  background-color: var(--sklearn-color-unfitted-level-2);\n",
       "}\n",
       "\n",
       "#sk-container-id-1 div.sk-estimator.fitted input.sk-toggleable__control:checked~label.sk-toggleable__label {\n",
       "  /* fitted */\n",
       "  background-color: var(--sklearn-color-fitted-level-2);\n",
       "}\n",
       "\n",
       "#sk-container-id-1 div.sk-label label.sk-toggleable__label,\n",
       "#sk-container-id-1 div.sk-label label {\n",
       "  /* The background is the default theme color */\n",
       "  color: var(--sklearn-color-text-on-default-background);\n",
       "}\n",
       "\n",
       "/* On hover, darken the color of the background */\n",
       "#sk-container-id-1 div.sk-label:hover label.sk-toggleable__label {\n",
       "  color: var(--sklearn-color-text);\n",
       "  background-color: var(--sklearn-color-unfitted-level-2);\n",
       "}\n",
       "\n",
       "/* Label box, darken color on hover, fitted */\n",
       "#sk-container-id-1 div.sk-label.fitted:hover label.sk-toggleable__label.fitted {\n",
       "  color: var(--sklearn-color-text);\n",
       "  background-color: var(--sklearn-color-fitted-level-2);\n",
       "}\n",
       "\n",
       "/* Estimator label */\n",
       "\n",
       "#sk-container-id-1 div.sk-label label {\n",
       "  font-family: monospace;\n",
       "  font-weight: bold;\n",
       "  display: inline-block;\n",
       "  line-height: 1.2em;\n",
       "}\n",
       "\n",
       "#sk-container-id-1 div.sk-label-container {\n",
       "  text-align: center;\n",
       "}\n",
       "\n",
       "/* Estimator-specific */\n",
       "#sk-container-id-1 div.sk-estimator {\n",
       "  font-family: monospace;\n",
       "  border: 1px dotted var(--sklearn-color-border-box);\n",
       "  border-radius: 0.25em;\n",
       "  box-sizing: border-box;\n",
       "  margin-bottom: 0.5em;\n",
       "  /* unfitted */\n",
       "  background-color: var(--sklearn-color-unfitted-level-0);\n",
       "}\n",
       "\n",
       "#sk-container-id-1 div.sk-estimator.fitted {\n",
       "  /* fitted */\n",
       "  background-color: var(--sklearn-color-fitted-level-0);\n",
       "}\n",
       "\n",
       "/* on hover */\n",
       "#sk-container-id-1 div.sk-estimator:hover {\n",
       "  /* unfitted */\n",
       "  background-color: var(--sklearn-color-unfitted-level-2);\n",
       "}\n",
       "\n",
       "#sk-container-id-1 div.sk-estimator.fitted:hover {\n",
       "  /* fitted */\n",
       "  background-color: var(--sklearn-color-fitted-level-2);\n",
       "}\n",
       "\n",
       "/* Specification for estimator info (e.g. \"i\" and \"?\") */\n",
       "\n",
       "/* Common style for \"i\" and \"?\" */\n",
       "\n",
       ".sk-estimator-doc-link,\n",
       "a:link.sk-estimator-doc-link,\n",
       "a:visited.sk-estimator-doc-link {\n",
       "  float: right;\n",
       "  font-size: smaller;\n",
       "  line-height: 1em;\n",
       "  font-family: monospace;\n",
       "  background-color: var(--sklearn-color-background);\n",
       "  border-radius: 1em;\n",
       "  height: 1em;\n",
       "  width: 1em;\n",
       "  text-decoration: none !important;\n",
       "  margin-left: 1ex;\n",
       "  /* unfitted */\n",
       "  border: var(--sklearn-color-unfitted-level-1) 1pt solid;\n",
       "  color: var(--sklearn-color-unfitted-level-1);\n",
       "}\n",
       "\n",
       ".sk-estimator-doc-link.fitted,\n",
       "a:link.sk-estimator-doc-link.fitted,\n",
       "a:visited.sk-estimator-doc-link.fitted {\n",
       "  /* fitted */\n",
       "  border: var(--sklearn-color-fitted-level-1) 1pt solid;\n",
       "  color: var(--sklearn-color-fitted-level-1);\n",
       "}\n",
       "\n",
       "/* On hover */\n",
       "div.sk-estimator:hover .sk-estimator-doc-link:hover,\n",
       ".sk-estimator-doc-link:hover,\n",
       "div.sk-label-container:hover .sk-estimator-doc-link:hover,\n",
       ".sk-estimator-doc-link:hover {\n",
       "  /* unfitted */\n",
       "  background-color: var(--sklearn-color-unfitted-level-3);\n",
       "  color: var(--sklearn-color-background);\n",
       "  text-decoration: none;\n",
       "}\n",
       "\n",
       "div.sk-estimator.fitted:hover .sk-estimator-doc-link.fitted:hover,\n",
       ".sk-estimator-doc-link.fitted:hover,\n",
       "div.sk-label-container:hover .sk-estimator-doc-link.fitted:hover,\n",
       ".sk-estimator-doc-link.fitted:hover {\n",
       "  /* fitted */\n",
       "  background-color: var(--sklearn-color-fitted-level-3);\n",
       "  color: var(--sklearn-color-background);\n",
       "  text-decoration: none;\n",
       "}\n",
       "\n",
       "/* Span, style for the box shown on hovering the info icon */\n",
       ".sk-estimator-doc-link span {\n",
       "  display: none;\n",
       "  z-index: 9999;\n",
       "  position: relative;\n",
       "  font-weight: normal;\n",
       "  right: .2ex;\n",
       "  padding: .5ex;\n",
       "  margin: .5ex;\n",
       "  width: min-content;\n",
       "  min-width: 20ex;\n",
       "  max-width: 50ex;\n",
       "  color: var(--sklearn-color-text);\n",
       "  box-shadow: 2pt 2pt 4pt #999;\n",
       "  /* unfitted */\n",
       "  background: var(--sklearn-color-unfitted-level-0);\n",
       "  border: .5pt solid var(--sklearn-color-unfitted-level-3);\n",
       "}\n",
       "\n",
       ".sk-estimator-doc-link.fitted span {\n",
       "  /* fitted */\n",
       "  background: var(--sklearn-color-fitted-level-0);\n",
       "  border: var(--sklearn-color-fitted-level-3);\n",
       "}\n",
       "\n",
       ".sk-estimator-doc-link:hover span {\n",
       "  display: block;\n",
       "}\n",
       "\n",
       "/* \"?\"-specific style due to the `<a>` HTML tag */\n",
       "\n",
       "#sk-container-id-1 a.estimator_doc_link {\n",
       "  float: right;\n",
       "  font-size: 1rem;\n",
       "  line-height: 1em;\n",
       "  font-family: monospace;\n",
       "  background-color: var(--sklearn-color-background);\n",
       "  border-radius: 1rem;\n",
       "  height: 1rem;\n",
       "  width: 1rem;\n",
       "  text-decoration: none;\n",
       "  /* unfitted */\n",
       "  color: var(--sklearn-color-unfitted-level-1);\n",
       "  border: var(--sklearn-color-unfitted-level-1) 1pt solid;\n",
       "}\n",
       "\n",
       "#sk-container-id-1 a.estimator_doc_link.fitted {\n",
       "  /* fitted */\n",
       "  border: var(--sklearn-color-fitted-level-1) 1pt solid;\n",
       "  color: var(--sklearn-color-fitted-level-1);\n",
       "}\n",
       "\n",
       "/* On hover */\n",
       "#sk-container-id-1 a.estimator_doc_link:hover {\n",
       "  /* unfitted */\n",
       "  background-color: var(--sklearn-color-unfitted-level-3);\n",
       "  color: var(--sklearn-color-background);\n",
       "  text-decoration: none;\n",
       "}\n",
       "\n",
       "#sk-container-id-1 a.estimator_doc_link.fitted:hover {\n",
       "  /* fitted */\n",
       "  background-color: var(--sklearn-color-fitted-level-3);\n",
       "}\n",
       "</style><div id=\"sk-container-id-1\" class=\"sk-top-container\"><div class=\"sk-text-repr-fallback\"><pre>MultinomialNB()</pre><b>In a Jupyter environment, please rerun this cell to show the HTML representation or trust the notebook. <br />On GitHub, the HTML representation is unable to render, please try loading this page with nbviewer.org.</b></div><div class=\"sk-container\" hidden><div class=\"sk-item\"><div class=\"sk-estimator fitted sk-toggleable\"><input class=\"sk-toggleable__control sk-hidden--visually\" id=\"sk-estimator-id-1\" type=\"checkbox\" checked><label for=\"sk-estimator-id-1\" class=\"sk-toggleable__label fitted sk-toggleable__label-arrow fitted\">&nbsp;&nbsp;MultinomialNB<a class=\"sk-estimator-doc-link fitted\" rel=\"noreferrer\" target=\"_blank\" href=\"https://scikit-learn.org/1.5/modules/generated/sklearn.naive_bayes.MultinomialNB.html\">?<span>Documentation for MultinomialNB</span></a><span class=\"sk-estimator-doc-link fitted\">i<span>Fitted</span></span></label><div class=\"sk-toggleable__content fitted\"><pre>MultinomialNB()</pre></div> </div></div></div></div>"
      ],
      "text/plain": [
       "MultinomialNB()"
      ]
     },
     "execution_count": 9,
     "metadata": {},
     "output_type": "execute_result"
    }
   ],
   "source": [
    "from sklearn.naive_bayes import MultinomialNB\n",
    "from sklearn import metrics\n",
    "\n",
    "model = MultinomialNB()\n",
    "model.fit(X_train_vectorizer, y_train)\n",
    "\n"
   ]
  },
  {
   "cell_type": "code",
   "execution_count": 10,
   "metadata": {},
   "outputs": [],
   "source": [
    "# test\n",
    "y_pred = model.predict(X_test_vectorizer)\n",
    "accuracy =metrics.accuracy_score(y_test, y_pred)"
   ]
  },
  {
   "cell_type": "code",
   "execution_count": 11,
   "metadata": {},
   "outputs": [
    {
     "data": {
      "text/plain": [
       "0.7909836065573771"
      ]
     },
     "execution_count": 11,
     "metadata": {},
     "output_type": "execute_result"
    }
   ],
   "source": [
    "accuracy"
   ]
  },
  {
   "cell_type": "code",
   "execution_count": 12,
   "metadata": {},
   "outputs": [
    {
     "name": "stdout",
     "output_type": "stream",
     "text": [
      "scikit-learn==1.5.1\n"
     ]
    }
   ],
   "source": [
    "!pip freeze | grep scikit-learn"
   ]
  },
  {
   "cell_type": "markdown",
   "metadata": {},
   "source": [
    "## STEMMING"
   ]
  },
  {
   "cell_type": "code",
   "execution_count": 13,
   "metadata": {},
   "outputs": [
    {
     "name": "stderr",
     "output_type": "stream",
     "text": [
      "[nltk_data] Downloading package punkt_tab to /home/hugo/nltk_data...\n",
      "[nltk_data]   Package punkt_tab is already up-to-date!\n"
     ]
    }
   ],
   "source": [
    "import nltk \n",
    "from nltk.tokenize import word_tokenize\n",
    "from nltk.stem import SnowballStemmer\n",
    "nltk.download('punkt_tab')\n",
    "stemmer = SnowballStemmer('spanish')"
   ]
  },
  {
   "cell_type": "code",
   "execution_count": 14,
   "metadata": {},
   "outputs": [],
   "source": [
    "def transform_text(text):\n",
    "    tokens = word_tokenize(text.lower())\n",
    "    stemmed = [stemmer.stem(token) for token in tokens if token.isalpha()]\n",
    "    return ' '.join(stemmed)"
   ]
  },
  {
   "cell_type": "code",
   "execution_count": 15,
   "metadata": {},
   "outputs": [
    {
     "data": {
      "text/plain": [
       "'lapic de osezn'"
      ]
     },
     "execution_count": 15,
     "metadata": {},
     "output_type": "execute_result"
    }
   ],
   "source": [
    "test = transform_text('lápices de oseznos')  \n",
    "test"
   ]
  },
  {
   "cell_type": "code",
   "execution_count": 16,
   "metadata": {},
   "outputs": [],
   "source": [
    "df['news_stem'] = df['news'].apply(transform_text)"
   ]
  },
  {
   "cell_type": "code",
   "execution_count": 17,
   "metadata": {},
   "outputs": [
    {
     "data": {
      "text/html": [
       "<div>\n",
       "<style scoped>\n",
       "    .dataframe tbody tr th:only-of-type {\n",
       "        vertical-align: middle;\n",
       "    }\n",
       "\n",
       "    .dataframe tbody tr th {\n",
       "        vertical-align: top;\n",
       "    }\n",
       "\n",
       "    .dataframe thead th {\n",
       "        text-align: right;\n",
       "    }\n",
       "</style>\n",
       "<table border=\"1\" class=\"dataframe\">\n",
       "  <thead>\n",
       "    <tr style=\"text-align: right;\">\n",
       "      <th></th>\n",
       "      <th>news</th>\n",
       "      <th>news_stem</th>\n",
       "    </tr>\n",
       "  </thead>\n",
       "  <tbody>\n",
       "    <tr>\n",
       "      <th>0</th>\n",
       "      <td>Durante el foro La banca articulador empresari...</td>\n",
       "      <td>durant el for la banc articul empresarial par ...</td>\n",
       "    </tr>\n",
       "    <tr>\n",
       "      <th>1</th>\n",
       "      <td>El regulador de valores de China dijo el domin...</td>\n",
       "      <td>el regul de valor de chin dij el doming que bu...</td>\n",
       "    </tr>\n",
       "    <tr>\n",
       "      <th>2</th>\n",
       "      <td>En una industria históricamente masculina como...</td>\n",
       "      <td>en una industri histor masculin com lo es la a...</td>\n",
       "    </tr>\n",
       "    <tr>\n",
       "      <th>3</th>\n",
       "      <td>Con el dato de marzo el IPC interanual encaden...</td>\n",
       "      <td>con el dat de marz el ipc interanual encaden s...</td>\n",
       "    </tr>\n",
       "    <tr>\n",
       "      <th>4</th>\n",
       "      <td>Ayer en Cartagena se dio inicio a la versión n...</td>\n",
       "      <td>ayer en cartagen se dio inici a la version num...</td>\n",
       "    </tr>\n",
       "  </tbody>\n",
       "</table>\n",
       "</div>"
      ],
      "text/plain": [
       "                                                news  \\\n",
       "0  Durante el foro La banca articulador empresari...   \n",
       "1  El regulador de valores de China dijo el domin...   \n",
       "2  En una industria históricamente masculina como...   \n",
       "3  Con el dato de marzo el IPC interanual encaden...   \n",
       "4  Ayer en Cartagena se dio inicio a la versión n...   \n",
       "\n",
       "                                           news_stem  \n",
       "0  durant el for la banc articul empresarial par ...  \n",
       "1  el regul de valor de chin dij el doming que bu...  \n",
       "2  en una industri histor masculin com lo es la a...  \n",
       "3  con el dat de marz el ipc interanual encaden s...  \n",
       "4  ayer en cartagen se dio inici a la version num...  "
      ]
     },
     "execution_count": 17,
     "metadata": {},
     "output_type": "execute_result"
    }
   ],
   "source": [
    "# see just columns 'news' and 'news_stem'\n",
    "df[['news','news_stem']].head()"
   ]
  },
  {
   "cell_type": "code",
   "execution_count": 18,
   "metadata": {},
   "outputs": [
    {
     "data": {
      "text/plain": [
       "0.8237704918032787"
      ]
     },
     "execution_count": 18,
     "metadata": {},
     "output_type": "execute_result"
    }
   ],
   "source": [
    "new_output = df['news_stem']\n",
    "X_train, X_test, y_train, y_test = train_test_split(new_output, output_news, test_size=0.2, random_state=42,stratify=output_news)\n",
    "vectorizer = CountVectorizer()\n",
    "X_train_vectorizer = vectorizer.fit_transform(X_train)\n",
    "X_test_vectorizer = vectorizer.transform(X_test)\n",
    "model = MultinomialNB()\n",
    "model.fit(X_train_vectorizer, y_train)\n",
    "y_pred = model.predict(X_test_vectorizer)\n",
    "accuracy =metrics.accuracy_score(y_test, y_pred)\n",
    "accuracy"
   ]
  },
  {
   "cell_type": "code",
   "execution_count": 19,
   "metadata": {},
   "outputs": [
    {
     "data": {
      "text/plain": [
       "(973, 11760)"
      ]
     },
     "execution_count": 19,
     "metadata": {},
     "output_type": "execute_result"
    }
   ],
   "source": [
    "X_train_vectorizer.shape"
   ]
  },
  {
   "cell_type": "code",
   "execution_count": 20,
   "metadata": {},
   "outputs": [
    {
     "data": {
      "text/plain": [
       "<Compressed Sparse Row sparse matrix of dtype 'int64'\n",
       "\twith 195732 stored elements and shape (973, 11760)>"
      ]
     },
     "execution_count": 20,
     "metadata": {},
     "output_type": "execute_result"
    }
   ],
   "source": [
    "X_train_vectorizer"
   ]
  },
  {
   "cell_type": "markdown",
   "metadata": {},
   "source": [
    "## Stopwords"
   ]
  },
  {
   "cell_type": "code",
   "execution_count": 31,
   "metadata": {},
   "outputs": [
    {
     "name": "stderr",
     "output_type": "stream",
     "text": [
      "[nltk_data] Downloading package stopwords to /home/hugo/nltk_data...\n",
      "[nltk_data]   Package stopwords is already up-to-date!\n"
     ]
    },
    {
     "data": {
      "text/plain": [
       "0.8278688524590164"
      ]
     },
     "execution_count": 31,
     "metadata": {},
     "output_type": "execute_result"
    }
   ],
   "source": [
    "from nltk.corpus import stopwords\n",
    "nltk.download('stopwords')\n",
    "stop_words = set(stopwords.words('spanish'))\n",
    "def transform_text(text):\n",
    "    tokens = word_tokenize(text.lower())\n",
    "    stemmed = [stemmer.stem(token) for token in tokens if token.isalpha() and token not in stop_words]\n",
    "    return ' '.join(stemmed)\n",
    "df['news_stem_stopwords'] = df['news'].apply(transform_text)\n",
    "new_output = df['news_stem_stopwords']\n",
    "X_train, X_test, y_train, y_test = train_test_split(new_output, output_news, test_size=0.2, random_state=42,stratify=output_news)\n",
    "vectorizer = CountVectorizer()\n",
    "X_train_vectorizer = vectorizer.fit_transform(X_train)\n",
    "X_test_vectorizer = vectorizer.transform(X_test)\n",
    "model = MultinomialNB()\n",
    "model.fit(X_train_vectorizer, y_train)\n",
    "y_pred = model.predict(X_test_vectorizer)\n",
    "accuracy =metrics.accuracy_score(y_test, y_pred)\n",
    "accuracy"
   ]
  },
  {
   "cell_type": "code",
   "execution_count": 22,
   "metadata": {},
   "outputs": [
    {
     "data": {
      "text/html": [
       "<div>\n",
       "<style scoped>\n",
       "    .dataframe tbody tr th:only-of-type {\n",
       "        vertical-align: middle;\n",
       "    }\n",
       "\n",
       "    .dataframe tbody tr th {\n",
       "        vertical-align: top;\n",
       "    }\n",
       "\n",
       "    .dataframe thead th {\n",
       "        text-align: right;\n",
       "    }\n",
       "</style>\n",
       "<table border=\"1\" class=\"dataframe\">\n",
       "  <thead>\n",
       "    <tr style=\"text-align: right;\">\n",
       "      <th></th>\n",
       "      <th>url</th>\n",
       "      <th>news</th>\n",
       "      <th>Type</th>\n",
       "      <th>news_stem</th>\n",
       "    </tr>\n",
       "  </thead>\n",
       "  <tbody>\n",
       "    <tr>\n",
       "      <th>0</th>\n",
       "      <td>https://www.larepublica.co/redirect/post/3201905</td>\n",
       "      <td>Durante el foro La banca articulador empresari...</td>\n",
       "      <td>Otra</td>\n",
       "      <td>durant el for la banc articul empresarial par ...</td>\n",
       "    </tr>\n",
       "    <tr>\n",
       "      <th>1</th>\n",
       "      <td>https://www.larepublica.co/redirect/post/3210288</td>\n",
       "      <td>El regulador de valores de China dijo el domin...</td>\n",
       "      <td>Regulaciones</td>\n",
       "      <td>el regul de valor de chin dij el doming que bu...</td>\n",
       "    </tr>\n",
       "    <tr>\n",
       "      <th>2</th>\n",
       "      <td>https://www.larepublica.co/redirect/post/3240676</td>\n",
       "      <td>En una industria históricamente masculina como...</td>\n",
       "      <td>Alianzas</td>\n",
       "      <td>en una industri histor masculin com lo es la a...</td>\n",
       "    </tr>\n",
       "    <tr>\n",
       "      <th>3</th>\n",
       "      <td>https://www.larepublica.co/redirect/post/3342889</td>\n",
       "      <td>Con el dato de marzo el IPC interanual encaden...</td>\n",
       "      <td>Macroeconomia</td>\n",
       "      <td>con el dat de marz el ipc interanual encaden s...</td>\n",
       "    </tr>\n",
       "    <tr>\n",
       "      <th>4</th>\n",
       "      <td>https://www.larepublica.co/redirect/post/3427208</td>\n",
       "      <td>Ayer en Cartagena se dio inicio a la versión n...</td>\n",
       "      <td>Otra</td>\n",
       "      <td>ayer en cartagen se dio inici a la version num...</td>\n",
       "    </tr>\n",
       "    <tr>\n",
       "      <th>...</th>\n",
       "      <td>...</td>\n",
       "      <td>...</td>\n",
       "      <td>...</td>\n",
       "      <td>...</td>\n",
       "    </tr>\n",
       "    <tr>\n",
       "      <th>1212</th>\n",
       "      <td>https://www.bbva.com/es/como-lograr-que-los-in...</td>\n",
       "      <td>En la vida de toda empresa emergente llega un ...</td>\n",
       "      <td>Innovacion</td>\n",
       "      <td>en la vid de tod empres emergent lleg un momen...</td>\n",
       "    </tr>\n",
       "    <tr>\n",
       "      <th>1213</th>\n",
       "      <td>https://www.bbva.com/es/podcast-como-nos-afect...</td>\n",
       "      <td>La espiral alcista de los precios continúa y g...</td>\n",
       "      <td>Macroeconomia</td>\n",
       "      <td>la espiral alcist de los preci continu y gener...</td>\n",
       "    </tr>\n",
       "    <tr>\n",
       "      <th>1214</th>\n",
       "      <td>https://www.larepublica.co/redirect/post/3253735</td>\n",
       "      <td>Las grandes derrotas nacionales son experienci...</td>\n",
       "      <td>Alianzas</td>\n",
       "      <td>las grand derrot nacional son experient trauma...</td>\n",
       "    </tr>\n",
       "    <tr>\n",
       "      <th>1215</th>\n",
       "      <td>https://www.bbva.com/es/bbva-y-barcelona-healt...</td>\n",
       "      <td>BBVA ha alcanzado un acuerdo de colaboración c...</td>\n",
       "      <td>Innovacion</td>\n",
       "      <td>bbva ha alcanz un acuerd de colabor con barcel...</td>\n",
       "    </tr>\n",
       "    <tr>\n",
       "      <th>1216</th>\n",
       "      <td>https://www.larepublica.co/redirect/post/3263980</td>\n",
       "      <td>Casi entrando a la parte final de noviembre la...</td>\n",
       "      <td>Alianzas</td>\n",
       "      <td>casi entrand a la part final de noviembr la ep...</td>\n",
       "    </tr>\n",
       "  </tbody>\n",
       "</table>\n",
       "<p>1217 rows × 4 columns</p>\n",
       "</div>"
      ],
      "text/plain": [
       "                                                    url  \\\n",
       "0      https://www.larepublica.co/redirect/post/3201905   \n",
       "1      https://www.larepublica.co/redirect/post/3210288   \n",
       "2      https://www.larepublica.co/redirect/post/3240676   \n",
       "3      https://www.larepublica.co/redirect/post/3342889   \n",
       "4      https://www.larepublica.co/redirect/post/3427208   \n",
       "...                                                 ...   \n",
       "1212  https://www.bbva.com/es/como-lograr-que-los-in...   \n",
       "1213  https://www.bbva.com/es/podcast-como-nos-afect...   \n",
       "1214   https://www.larepublica.co/redirect/post/3253735   \n",
       "1215  https://www.bbva.com/es/bbva-y-barcelona-healt...   \n",
       "1216   https://www.larepublica.co/redirect/post/3263980   \n",
       "\n",
       "                                                   news           Type  \\\n",
       "0     Durante el foro La banca articulador empresari...           Otra   \n",
       "1     El regulador de valores de China dijo el domin...   Regulaciones   \n",
       "2     En una industria históricamente masculina como...       Alianzas   \n",
       "3     Con el dato de marzo el IPC interanual encaden...  Macroeconomia   \n",
       "4     Ayer en Cartagena se dio inicio a la versión n...           Otra   \n",
       "...                                                 ...            ...   \n",
       "1212  En la vida de toda empresa emergente llega un ...     Innovacion   \n",
       "1213  La espiral alcista de los precios continúa y g...  Macroeconomia   \n",
       "1214  Las grandes derrotas nacionales son experienci...       Alianzas   \n",
       "1215  BBVA ha alcanzado un acuerdo de colaboración c...     Innovacion   \n",
       "1216  Casi entrando a la parte final de noviembre la...       Alianzas   \n",
       "\n",
       "                                              news_stem  \n",
       "0     durant el for la banc articul empresarial par ...  \n",
       "1     el regul de valor de chin dij el doming que bu...  \n",
       "2     en una industri histor masculin com lo es la a...  \n",
       "3     con el dat de marz el ipc interanual encaden s...  \n",
       "4     ayer en cartagen se dio inici a la version num...  \n",
       "...                                                 ...  \n",
       "1212  en la vid de tod empres emergent lleg un momen...  \n",
       "1213  la espiral alcist de los preci continu y gener...  \n",
       "1214  las grand derrot nacional son experient trauma...  \n",
       "1215  bbva ha alcanz un acuerd de colabor con barcel...  \n",
       "1216  casi entrand a la part final de noviembr la ep...  \n",
       "\n",
       "[1217 rows x 4 columns]"
      ]
     },
     "execution_count": 22,
     "metadata": {},
     "output_type": "execute_result"
    }
   ],
   "source": [
    "df"
   ]
  },
  {
   "cell_type": "code",
   "execution_count": null,
   "metadata": {},
   "outputs": [],
   "source": []
  },
  {
   "cell_type": "markdown",
   "metadata": {},
   "source": [
    "## Lematización"
   ]
  },
  {
   "cell_type": "code",
   "execution_count": 23,
   "metadata": {},
   "outputs": [],
   "source": [
    "import spacy\n",
    "nlp = spacy.load('es_core_news_sm')"
   ]
  },
  {
   "cell_type": "code",
   "execution_count": 24,
   "metadata": {},
   "outputs": [],
   "source": [
    "def leammatize_text(text):\n",
    "    doc = nlp(text.lower())\n",
    "    lemmas = [token.lemma_ for token in doc if token.is_alpha and token.lemma_ not in stop_words]\n",
    "    return ' '.join(lemmas)"
   ]
  },
  {
   "cell_type": "code",
   "execution_count": 25,
   "metadata": {},
   "outputs": [
    {
     "data": {
      "text/plain": [
       "'lápiz osezno escribir escrito'"
      ]
     },
     "execution_count": 25,
     "metadata": {},
     "output_type": "execute_result"
    }
   ],
   "source": [
    "test = leammatize_text('lápices de oseznos escribiendo y escrito')\n",
    "test"
   ]
  },
  {
   "cell_type": "code",
   "execution_count": 26,
   "metadata": {},
   "outputs": [],
   "source": [
    "df['news_lemma'] = df['news'].apply(leammatize_text)"
   ]
  },
  {
   "cell_type": "code",
   "execution_count": 27,
   "metadata": {},
   "outputs": [
    {
     "data": {
      "text/html": [
       "<div>\n",
       "<style scoped>\n",
       "    .dataframe tbody tr th:only-of-type {\n",
       "        vertical-align: middle;\n",
       "    }\n",
       "\n",
       "    .dataframe tbody tr th {\n",
       "        vertical-align: top;\n",
       "    }\n",
       "\n",
       "    .dataframe thead th {\n",
       "        text-align: right;\n",
       "    }\n",
       "</style>\n",
       "<table border=\"1\" class=\"dataframe\">\n",
       "  <thead>\n",
       "    <tr style=\"text-align: right;\">\n",
       "      <th></th>\n",
       "      <th>url</th>\n",
       "      <th>news</th>\n",
       "      <th>Type</th>\n",
       "      <th>news_stem</th>\n",
       "      <th>news_lemma</th>\n",
       "    </tr>\n",
       "  </thead>\n",
       "  <tbody>\n",
       "    <tr>\n",
       "      <th>0</th>\n",
       "      <td>https://www.larepublica.co/redirect/post/3201905</td>\n",
       "      <td>Durante el foro La banca articulador empresari...</td>\n",
       "      <td>Otra</td>\n",
       "      <td>durant el for la banc articul empresarial par ...</td>\n",
       "      <td>foro banca articulador empresarial desarrollo ...</td>\n",
       "    </tr>\n",
       "    <tr>\n",
       "      <th>1</th>\n",
       "      <td>https://www.larepublica.co/redirect/post/3210288</td>\n",
       "      <td>El regulador de valores de China dijo el domin...</td>\n",
       "      <td>Regulaciones</td>\n",
       "      <td>el regul de valor de chin dij el doming que bu...</td>\n",
       "      <td>regulador valor china decir domingo buscar coo...</td>\n",
       "    </tr>\n",
       "    <tr>\n",
       "      <th>2</th>\n",
       "      <td>https://www.larepublica.co/redirect/post/3240676</td>\n",
       "      <td>En una industria históricamente masculina como...</td>\n",
       "      <td>Alianzas</td>\n",
       "      <td>en una industri histor masculin com lo es la a...</td>\n",
       "      <td>industria históricamente masculino ser aviació...</td>\n",
       "    </tr>\n",
       "    <tr>\n",
       "      <th>3</th>\n",
       "      <td>https://www.larepublica.co/redirect/post/3342889</td>\n",
       "      <td>Con el dato de marzo el IPC interanual encaden...</td>\n",
       "      <td>Macroeconomia</td>\n",
       "      <td>con el dat de marz el ipc interanual encaden s...</td>\n",
       "      <td>dato marzo ipc interanual encadenar decimoquin...</td>\n",
       "    </tr>\n",
       "    <tr>\n",
       "      <th>4</th>\n",
       "      <td>https://www.larepublica.co/redirect/post/3427208</td>\n",
       "      <td>Ayer en Cartagena se dio inicio a la versión n...</td>\n",
       "      <td>Otra</td>\n",
       "      <td>ayer en cartagen se dio inici a la version num...</td>\n",
       "      <td>ayer cartagena dar inicio versión número conve...</td>\n",
       "    </tr>\n",
       "    <tr>\n",
       "      <th>...</th>\n",
       "      <td>...</td>\n",
       "      <td>...</td>\n",
       "      <td>...</td>\n",
       "      <td>...</td>\n",
       "      <td>...</td>\n",
       "    </tr>\n",
       "    <tr>\n",
       "      <th>1212</th>\n",
       "      <td>https://www.bbva.com/es/como-lograr-que-los-in...</td>\n",
       "      <td>En la vida de toda empresa emergente llega un ...</td>\n",
       "      <td>Innovacion</td>\n",
       "      <td>en la vid de tod empres emergent lleg un momen...</td>\n",
       "      <td>vida empresa emergente llegar momento haber ir...</td>\n",
       "    </tr>\n",
       "    <tr>\n",
       "      <th>1213</th>\n",
       "      <td>https://www.bbva.com/es/podcast-como-nos-afect...</td>\n",
       "      <td>La espiral alcista de los precios continúa y g...</td>\n",
       "      <td>Macroeconomia</td>\n",
       "      <td>la espiral alcist de los preci continu y gener...</td>\n",
       "      <td>espiral alcista precio continuar generar cada ...</td>\n",
       "    </tr>\n",
       "    <tr>\n",
       "      <th>1214</th>\n",
       "      <td>https://www.larepublica.co/redirect/post/3253735</td>\n",
       "      <td>Las grandes derrotas nacionales son experienci...</td>\n",
       "      <td>Alianzas</td>\n",
       "      <td>las grand derrot nacional son experient trauma...</td>\n",
       "      <td>grande derrota nacional ser experiencia traumá...</td>\n",
       "    </tr>\n",
       "    <tr>\n",
       "      <th>1215</th>\n",
       "      <td>https://www.bbva.com/es/bbva-y-barcelona-healt...</td>\n",
       "      <td>BBVA ha alcanzado un acuerdo de colaboración c...</td>\n",
       "      <td>Innovacion</td>\n",
       "      <td>bbva ha alcanz un acuerd de colabor con barcel...</td>\n",
       "      <td>bbva haber alcanzar acuerdo colaboración barce...</td>\n",
       "    </tr>\n",
       "    <tr>\n",
       "      <th>1216</th>\n",
       "      <td>https://www.larepublica.co/redirect/post/3263980</td>\n",
       "      <td>Casi entrando a la parte final de noviembre la...</td>\n",
       "      <td>Alianzas</td>\n",
       "      <td>casi entrand a la part final de noviembr la ep...</td>\n",
       "      <td>casi entrar parte final noviembre época hacer ...</td>\n",
       "    </tr>\n",
       "  </tbody>\n",
       "</table>\n",
       "<p>1217 rows × 5 columns</p>\n",
       "</div>"
      ],
      "text/plain": [
       "                                                    url  \\\n",
       "0      https://www.larepublica.co/redirect/post/3201905   \n",
       "1      https://www.larepublica.co/redirect/post/3210288   \n",
       "2      https://www.larepublica.co/redirect/post/3240676   \n",
       "3      https://www.larepublica.co/redirect/post/3342889   \n",
       "4      https://www.larepublica.co/redirect/post/3427208   \n",
       "...                                                 ...   \n",
       "1212  https://www.bbva.com/es/como-lograr-que-los-in...   \n",
       "1213  https://www.bbva.com/es/podcast-como-nos-afect...   \n",
       "1214   https://www.larepublica.co/redirect/post/3253735   \n",
       "1215  https://www.bbva.com/es/bbva-y-barcelona-healt...   \n",
       "1216   https://www.larepublica.co/redirect/post/3263980   \n",
       "\n",
       "                                                   news           Type  \\\n",
       "0     Durante el foro La banca articulador empresari...           Otra   \n",
       "1     El regulador de valores de China dijo el domin...   Regulaciones   \n",
       "2     En una industria históricamente masculina como...       Alianzas   \n",
       "3     Con el dato de marzo el IPC interanual encaden...  Macroeconomia   \n",
       "4     Ayer en Cartagena se dio inicio a la versión n...           Otra   \n",
       "...                                                 ...            ...   \n",
       "1212  En la vida de toda empresa emergente llega un ...     Innovacion   \n",
       "1213  La espiral alcista de los precios continúa y g...  Macroeconomia   \n",
       "1214  Las grandes derrotas nacionales son experienci...       Alianzas   \n",
       "1215  BBVA ha alcanzado un acuerdo de colaboración c...     Innovacion   \n",
       "1216  Casi entrando a la parte final de noviembre la...       Alianzas   \n",
       "\n",
       "                                              news_stem  \\\n",
       "0     durant el for la banc articul empresarial par ...   \n",
       "1     el regul de valor de chin dij el doming que bu...   \n",
       "2     en una industri histor masculin com lo es la a...   \n",
       "3     con el dat de marz el ipc interanual encaden s...   \n",
       "4     ayer en cartagen se dio inici a la version num...   \n",
       "...                                                 ...   \n",
       "1212  en la vid de tod empres emergent lleg un momen...   \n",
       "1213  la espiral alcist de los preci continu y gener...   \n",
       "1214  las grand derrot nacional son experient trauma...   \n",
       "1215  bbva ha alcanz un acuerd de colabor con barcel...   \n",
       "1216  casi entrand a la part final de noviembr la ep...   \n",
       "\n",
       "                                             news_lemma  \n",
       "0     foro banca articulador empresarial desarrollo ...  \n",
       "1     regulador valor china decir domingo buscar coo...  \n",
       "2     industria históricamente masculino ser aviació...  \n",
       "3     dato marzo ipc interanual encadenar decimoquin...  \n",
       "4     ayer cartagena dar inicio versión número conve...  \n",
       "...                                                 ...  \n",
       "1212  vida empresa emergente llegar momento haber ir...  \n",
       "1213  espiral alcista precio continuar generar cada ...  \n",
       "1214  grande derrota nacional ser experiencia traumá...  \n",
       "1215  bbva haber alcanzar acuerdo colaboración barce...  \n",
       "1216  casi entrar parte final noviembre época hacer ...  \n",
       "\n",
       "[1217 rows x 5 columns]"
      ]
     },
     "execution_count": 27,
     "metadata": {},
     "output_type": "execute_result"
    }
   ],
   "source": [
    "df"
   ]
  },
  {
   "cell_type": "code",
   "execution_count": 28,
   "metadata": {},
   "outputs": [
    {
     "data": {
      "text/plain": [
       "(973, 11760)"
      ]
     },
     "execution_count": 28,
     "metadata": {},
     "output_type": "execute_result"
    }
   ],
   "source": [
    "X_train_vectorizer.shape"
   ]
  },
  {
   "cell_type": "code",
   "execution_count": 29,
   "metadata": {},
   "outputs": [
    {
     "data": {
      "text/plain": [
       "(244, 11760)"
      ]
     },
     "execution_count": 29,
     "metadata": {},
     "output_type": "execute_result"
    }
   ],
   "source": [
    "X_test_vectorizer.shape"
   ]
  },
  {
   "cell_type": "code",
   "execution_count": 30,
   "metadata": {},
   "outputs": [
    {
     "data": {
      "text/plain": [
       "0.8155737704918032"
      ]
     },
     "execution_count": 30,
     "metadata": {},
     "output_type": "execute_result"
    }
   ],
   "source": [
    "\n",
    "new_output = df['news_lemma']\n",
    "X_train, X_test, y_train, y_test = train_test_split(new_output, output_news, test_size=0.2, random_state=42,stratify=output_news)\n",
    "vectorizer = CountVectorizer()\n",
    "X_train_vectorizer = vectorizer.fit_transform(X_train)\n",
    "X_test_vectorizer = vectorizer.transform(X_test)\n",
    "model = MultinomialNB()\n",
    "model.fit(X_train_vectorizer, y_train)\n",
    "y_pred = model.predict(X_test_vectorizer)\n",
    "accuracy =metrics.accuracy_score(y_test, y_pred)\n",
    "accuracy"
   ]
  },
  {
   "cell_type": "code",
   "execution_count": null,
   "metadata": {},
   "outputs": [],
   "source": []
  }
 ],
 "metadata": {
  "kernelspec": {
   "display_name": ".env",
   "language": "python",
   "name": "python3"
  },
  "language_info": {
   "codemirror_mode": {
    "name": "ipython",
    "version": 3
   },
   "file_extension": ".py",
   "mimetype": "text/x-python",
   "name": "python",
   "nbconvert_exporter": "python",
   "pygments_lexer": "ipython3",
   "version": "3.10.12"
  }
 },
 "nbformat": 4,
 "nbformat_minor": 2
}
